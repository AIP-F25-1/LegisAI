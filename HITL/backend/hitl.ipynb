{
 "cells": [
  {
   "cell_type": "code",
   "execution_count": 10,
   "id": "91b55e93",
   "metadata": {},
   "outputs": [
    {
     "name": "stdout",
     "output_type": "stream",
     "text": [
      "Collecting langchain-opentutorial\n",
      "  Downloading langchain_opentutorial-0.0.8-py3-none-any.whl.metadata (686 bytes)\n",
      "Requirement already satisfied: requests in d:\\github\\legisai\\legisai\\.venv\\lib\\site-packages (from langchain-opentutorial) (2.32.5)\n",
      "Requirement already satisfied: charset_normalizer<4,>=2 in d:\\github\\legisai\\legisai\\.venv\\lib\\site-packages (from requests->langchain-opentutorial) (3.4.3)\n",
      "Requirement already satisfied: idna<4,>=2.5 in d:\\github\\legisai\\legisai\\.venv\\lib\\site-packages (from requests->langchain-opentutorial) (3.10)\n",
      "Requirement already satisfied: urllib3<3,>=1.21.1 in d:\\github\\legisai\\legisai\\.venv\\lib\\site-packages (from requests->langchain-opentutorial) (2.5.0)\n",
      "Requirement already satisfied: certifi>=2017.4.17 in d:\\github\\legisai\\legisai\\.venv\\lib\\site-packages (from requests->langchain-opentutorial) (2025.10.5)\n",
      "Downloading langchain_opentutorial-0.0.8-py3-none-any.whl (22 kB)\n",
      "Installing collected packages: langchain-opentutorial\n",
      "Successfully installed langchain-opentutorial-0.0.8\n"
     ]
    },
    {
     "name": "stderr",
     "output_type": "stream",
     "text": [
      "\n",
      "[notice] A new release of pip is available: 25.1.1 -> 25.2\n",
      "[notice] To update, run: python.exe -m pip install --upgrade pip\n"
     ]
    }
   ],
   "source": [
    "! pip install langchain-opentutorial\n",
    "from langchain_opentutorial import package"
   ]
  },
  {
   "cell_type": "code",
   "execution_count": 30,
   "id": "844ae999",
   "metadata": {},
   "outputs": [],
   "source": [
    "package.install(\n",
    "    [\n",
    "        \"langsmith\",\n",
    "        \"langgraph\",\n",
    "        \"langchain_core\",\n",
    "        \"langchain_openai\",\n",
    "    ],\n",
    "    verbose=False,\n",
    "    upgrade=False,\n",
    ")\n"
   ]
  },
  {
   "cell_type": "code",
   "execution_count": null,
   "id": "9a63ae2f",
   "metadata": {},
   "outputs": [
    {
     "name": "stdout",
     "output_type": "stream",
     "text": [
      "Environment variables have been set successfully.\n"
     ]
    }
   ],
   "source": [
    "# Set environment variables\n",
    "from langchain_opentutorial import set_env\n",
    "\n",
    "set_env(\n",
    "    {\n",
    "        \"OPENAI_API_KEY\": \"\",\n",
    "        # \"LANGCHAIN_API_KEY\": \"<YOUR_LANGCHAIN_API_KEY>\",\n",
    "       \"LANGCHAIN_TRACING_V2\": \"true\",\n",
    "        \"LANGCHAIN_PROJECT\": \"My-Human-in-the-loop-Test\",\n",
    "    }\n",
    ")"
   ]
  },
  {
   "cell_type": "code",
   "execution_count": 32,
   "id": "fc84f093",
   "metadata": {},
   "outputs": [
    {
     "name": "stdout",
     "output_type": "stream",
     "text": [
      "Requirement already satisfied: feedparser in d:\\github\\legisai\\legisai\\.venv\\lib\\site-packages (6.0.12)\n",
      "Requirement already satisfied: sgmllib3k in d:\\github\\legisai\\legisai\\.venv\\lib\\site-packages (from feedparser) (1.0.0)\n"
     ]
    },
    {
     "name": "stderr",
     "output_type": "stream",
     "text": [
      "\n",
      "[notice] A new release of pip is available: 25.1.1 -> 25.2\n",
      "[notice] To update, run: python.exe -m pip install --upgrade pip\n"
     ]
    }
   ],
   "source": [
    "! pip install feedparser\n"
   ]
  },
  {
   "cell_type": "code",
   "execution_count": 33,
   "id": "77ac0dd5",
   "metadata": {},
   "outputs": [],
   "source": [
    "import feedparser\n",
    "from urllib.parse import quote\n",
    "from typing import List, Dict, Optional\n",
    "from langchain_core.messages import BaseMessage"
   ]
  },
  {
   "cell_type": "code",
   "execution_count": 34,
   "id": "a31a1eef",
   "metadata": {},
   "outputs": [],
   "source": [
    "# Google News search class\n",
    "class GoogleNews:\n",
    "    def __init__(self):\n",
    "        self.base_url = \"https://news.google.com/rss\"\n",
    "\n",
    "    def _fetch_news(self, url: str, k: int = 3) -> List[Dict[str, str]]:\n",
    "        news_data = feedparser.parse(url)\n",
    "        return [{\"title\": entry.title, \"link\": entry.link} for entry in news_data.entries[:k]]\n",
    "\n",
    "    def _collect_news(self, news_list: List[Dict[str, str]]) -> List[Dict[str, str]]:\n",
    "        if not news_list:\n",
    "            print(\"No news found.\")\n",
    "            return []\n",
    "        return [{\"url\": news[\"link\"], \"content\": news[\"title\"]} for news in news_list]\n",
    "\n",
    "    def search_latest(self, k: int = 3) -> List[Dict[str, str]]:\n",
    "        url = f\"{self.base_url}?hl=en&gl=US&ceid=US:en\"\n",
    "        news_list = self._fetch_news(url, k)\n",
    "        return self._collect_news(news_list)\n",
    "\n",
    "    def search_by_keyword(self, keyword: Optional[str] = None, k: int = 3) -> List[Dict[str, str]]:\n",
    "        if keyword:\n",
    "            encoded_keyword = quote(keyword)\n",
    "            url = f\"{self.base_url}/search?q={encoded_keyword}&hl=en&gl=US&ceid=US:en\"\n",
    "        else:\n",
    "            url = f\"{self.base_url}?hl=en&gl=US&ceid=US:en\"\n",
    "        news_list = self._fetch_news(url, k)\n",
    "        return self._collect_news(news_list)\n"
   ]
  },
  {
   "cell_type": "code",
   "execution_count": 35,
   "id": "77ec423e",
   "metadata": {},
   "outputs": [],
   "source": [
    "# Pretty print LangChain messages\n",
    "def pretty_print_messages(messages: list[BaseMessage]):\n",
    "    for message in messages:\n",
    "        message.pretty_print()"
   ]
  },
  {
   "cell_type": "code",
   "execution_count": 36,
   "id": "54566229",
   "metadata": {},
   "outputs": [],
   "source": [
    "from typing import Annotated\n",
    "from typing_extensions import TypedDict\n",
    "from langchain_openai import ChatOpenAI\n",
    "from langchain_core.tools import tool\n",
    "from langgraph.checkpoint.memory import MemorySaver\n",
    "from langgraph.graph import StateGraph, START, END\n",
    "from langgraph.graph.message import add_messages\n",
    "from langgraph.prebuilt import ToolNode, tools_condition"
   ]
  },
  {
   "cell_type": "code",
   "execution_count": 37,
   "id": "edb50b67",
   "metadata": {},
   "outputs": [],
   "source": [
    "# Define the State for messages\n",
    "class State(TypedDict):\n",
    "    messages: Annotated[list, add_messages]\n",
    "\n",
    "graph_builder = StateGraph(State)"
   ]
  },
  {
   "cell_type": "code",
   "execution_count": 38,
   "id": "c45499cc",
   "metadata": {},
   "outputs": [],
   "source": [
    "@tool\n",
    "def search_keyword(query: str) -> List[Dict[str, str]]:\n",
    "    \"\"\"\n",
    "    Search Google News by a given keyword and return top 5 results.\n",
    "    \"\"\"\n",
    "    news_tool = GoogleNews()\n",
    "    return news_tool.search_by_keyword(query, k=5)\n",
    "\n",
    "tools = [search_keyword]\n"
   ]
  },
  {
   "cell_type": "code",
   "execution_count": 40,
   "id": "a5c51336",
   "metadata": {},
   "outputs": [],
   "source": [
    "# LLM setup\n",
    "llm = ChatOpenAI(model=\"gpt-4o-mini\")\n",
    "llm_with_tools = llm.bind_tools(tools)"
   ]
  },
  {
   "cell_type": "code",
   "execution_count": 41,
   "id": "c69b9322",
   "metadata": {},
   "outputs": [
    {
     "data": {
      "text/plain": [
       "<langgraph.graph.state.StateGraph at 0x2f08cc6ae90>"
      ]
     },
     "execution_count": 41,
     "metadata": {},
     "output_type": "execute_result"
    }
   ],
   "source": [
    "# Chatbot node\n",
    "def chatbot(state: State):\n",
    "    return {\"messages\": [llm_with_tools.invoke(state[\"messages\"])]}\n",
    "\n",
    "graph_builder.add_node(\"chatbot\", chatbot)"
   ]
  },
  {
   "cell_type": "code",
   "execution_count": 42,
   "id": "bca5cdd4",
   "metadata": {},
   "outputs": [
    {
     "data": {
      "text/plain": [
       "<langgraph.graph.state.StateGraph at 0x2f08cc6ae90>"
      ]
     },
     "execution_count": 42,
     "metadata": {},
     "output_type": "execute_result"
    }
   ],
   "source": [
    "# Tool node\n",
    "tool_node = ToolNode(tools=tools)\n",
    "graph_builder.add_node(\"tools\", tool_node)\n",
    "\n",
    "# Conditional edge from chatbot to tools\n",
    "graph_builder.add_conditional_edges(\"chatbot\", tools_condition)"
   ]
  },
  {
   "cell_type": "code",
   "execution_count": 43,
   "id": "976a6203",
   "metadata": {},
   "outputs": [],
   "source": [
    "# Define edges\n",
    "graph_builder.add_edge(\"tools\", \"chatbot\")\n",
    "graph_builder.add_edge(START, \"chatbot\")\n",
    "graph_builder.add_edge(\"chatbot\", END)\n",
    "\n",
    "# Add MemorySaver\n",
    "memory = MemorySaver()\n",
    "\n",
    "# Compile graph\n",
    "graph = graph_builder.compile(checkpointer=memory)"
   ]
  },
  {
   "cell_type": "code",
   "execution_count": 44,
   "id": "d23b5c87",
   "metadata": {},
   "outputs": [
    {
     "data": {
      "image/png": "[encoded data removed]",
      "text/plain": [
       "<IPython.core.display.Image object>"
      ]
     },
     "metadata": {},
     "output_type": "display_data"
    }
   ],
   "source": [
    "# Visualize graph (optional)\n",
    "from IPython.display import Image, display\n",
    "try:\n",
    "    display(Image(graph.get_graph().draw_mermaid_png()))\n",
    "except Exception:\n",
    "    pass"
   ]
  },
  {
   "cell_type": "code",
   "execution_count": 45,
   "id": "ff9f4db8",
   "metadata": {},
   "outputs": [],
   "source": [
    "from langchain_core.runnables import RunnableConfig\n",
    "\n",
    "# User question\n",
    "question = \"Please provide the latest news related to AI.\"\n",
    "input = State(messages=[(\"user\", question)])\n",
    "\n",
    "config = RunnableConfig(\n",
    "    recursion_limit=10,\n",
    "    configurable={\"thread_id\": \"1\"},\n",
    "    tags=[\"06-LangGraph-Human-in-the-loop\"],\n",
    ")"
   ]
  },
  {
   "cell_type": "code",
   "execution_count": 46,
   "id": "6473f6ab",
   "metadata": {},
   "outputs": [
    {
     "name": "stdout",
     "output_type": "stream",
     "text": [
      "================================\u001b[1m Human Message \u001b[0m=================================\n",
      "\n",
      "Please provide the latest news related to AI.\n",
      "Number of messages: 1\n",
      "================================\u001b[1m Human Message \u001b[0m=================================\n",
      "\n",
      "Please provide the latest news related to AI.\n",
      "==================================\u001b[1m Ai Message \u001b[0m==================================\n",
      "Tool Calls:\n",
      "  search_keyword (call_Sau4PeJNv6mHjBcdtXV1xEl0)\n",
      " Call ID: call_Sau4PeJNv6mHjBcdtXV1xEl0\n",
      "  Args:\n",
      "    query: Artificial Intelligence\n",
      "Number of messages: 2\n"
     ]
    }
   ],
   "source": [
    "# Stream events with interruption before tools\n",
    "for event in graph.stream(\n",
    "    input=input,\n",
    "    config=config,\n",
    "    stream_mode=\"values\",\n",
    "    interrupt_before=[\"tools\"],\n",
    "):\n",
    "    if \"messages\" in event:\n",
    "        pretty_print_messages(event[\"messages\"])\n",
    "        print(f\"Number of messages: {len(event['messages'])}\")\n"
   ]
  },
  {
   "cell_type": "code",
   "execution_count": 47,
   "id": "c207e5a7",
   "metadata": {},
   "outputs": [
    {
     "name": "stdout",
     "output_type": "stream",
     "text": [
      "==================================\u001b[1m Ai Message \u001b[0m==================================\n",
      "Tool Calls:\n",
      "  search_keyword (call_Sau4PeJNv6mHjBcdtXV1xEl0)\n",
      " Call ID: call_Sau4PeJNv6mHjBcdtXV1xEl0\n",
      "  Args:\n",
      "    query: Artificial Intelligence\n",
      "=================================\u001b[1m Tool Message \u001b[0m=================================\n",
      "Name: search_keyword\n",
      "\n",
      "[{\"url\": \"https://news.google.com/rss/articles/CBMigwFBVV95cUxPblZzY2JVbWVmOFZMU3NOZWNVVi1ONnRBODlFdmEtN2JqeHRvRTBvU3BJTFpTQ3M2azZ0djgxUWNsRWVHVXVFbGlyLWl0U2xzblh4QmljbzIzRXN4T25rekNVNVJ2SlZmX05WYnN1dzlVNzA2OUJYOWhaWU1GZFJSU3NoOA?oc=5\", \"content\": \"Analysis | China now leads the U.S. in this key part of the AI race - The Washington Post\"}, {\"url\": \"https://news.google.com/rss/articles/CBMikwFBVV95cUxNbzJhYk1vVFpDQ1o1QTF2Y3cxS3ZKSGc1eVZBZzNFQkFWWEk1eXY1aXpZVkJNSlhCSkx0ZTRHQ1NxR2ZxckhyaFA5dkprQXNZcy16bWZaazBKT3ljRG82YWtHM0dkdnRmNWdrQklXVHdPVUNHbmtrcGU5VUdqX1BVUHNySmFnNHpyZEw2dEVKNVBrNHc?oc=5\", \"content\": \"3 Millionaire-Maker Artificial Intelligence (AI) Stocks - Yahoo Finance\"}, {\"url\": \"https://news.google.com/rss/articles/CBMi1wFBVV95cUxQRHR5ZVpUVGpxZGQwRU5lN09QdmFJSm1BbU9falJkSGNlNEdVdGw5OHNCOEJMbXBtdmZaUHRqbDJnYzg1b1RKYkJONlNzbUUzczFhMTRUTjl1SXlEaG1hSWU5WXVMZ0R0SVNPUmRfYnk3WjdmOFVVUzF5dFhtVGlqd0stdFpnVk9fcFBJcnRtbjVHVjlEVFhlbVVUeEthVFRpLW9MNXBkcXVmSnduWE5tN2xla2VoTUhrd1hIUnlrb2trUmlFQmI2NEw5amVqd3BPVmd0bDVuONIB3AFBVV95cUxPQ0pYcmlBQ1ZxTGZjY0x2WmFlOTk2dzZ6SDZnS1g3Yzh0UFVMYXhWZ0VRazdKSXUtcy1yUm1TUTN3YjczYVhuOFg0VlpNTWxQM0xYcmFkVVVPVWNZTkJGQjNhRzZpVVZQS1g4RzFSOFBEbkMtOVQ3YXFoZkVCczJ1RkFjLXBHQXVLYktsUGZmcW9DSk5JSmRiS3hJZXNSLTFyVzN2OWVTcEVVbjdzMExqbjYyV3FoTEZDaklIV1F6SzN1U1lZaHJfVjZWanZHSEtkeVFQOUtaWGdaazZC?oc=5\", \"content\": \"Oracle and AMD expand a partnership with deals in the artificial intelligence sector booming - The Hill\"}, {\"url\": \"https://news.google.com/rss/articles/CBMimwNBVV95cUxPdjZ6UGl3dDYweGlBWno2cThhREd0MUdPdHFYeXlSZzRORUNPcUhCM2tFTWQyOWVhTk0xME9BaHllM1BYckVQdmMxNlVMZ0x1Y0FxN2J5SGVxWjZPSTRHcFJoNWx3ZjVjNG0tRnhwcThOQ0c1UWN4Nl9STi1YUWk5aTdTd3o2c0NsQkhjcjI0SWJfQ09Fa1dlTEFkUWpqNjg0SVduTjc4c2ZrU0pMTWRpZzdLQ2FDNWM2N0lZNWpERjFZMnk2b1dDdS0ySzl3ekFuYjRXR3NvQ0g1MDdvM05GdkdmMGJjRmN1ckhvVTZJQ0prcDgxSm9iTk4xaFBmRWdjTUU3V0dIbjMxWW40d01xUzhxR1hKb25YVFNpUVhLMDhmbTR5Q3RNQVdaR3Q2MWhmWl9QT1l2cS16ZDBzTS1ZekFXZV9fYjd4QWgwZ2V0RmlpQmFET2ZWdURaTjhDUHlBTzJ2N2pyR2QyZGVtMklvazdmbVk2UnpWWXJRb1A5Z1F6bVJrN0RvWWU0clNMWWlnbXV2alJ2bWoyVlU?oc=5\", \"content\": \"Oracle to Deploy 50,000 Chips From Advanced Micro Devices. AMD Stock Is Rising. - Barron's\"}, {\"url\": \"https://news.google.com/rss/articles/CBMiuwJBVV95cUxNWm9oMlBqa3NOQmo2RjR6THpnLVFQdG1TUnBuLURDZnBObzhaeHNhT1JvTUdaMUdyWXhKM2Q1VmozRmFXUUxUWjUwV3hwc2hUMzJybkJZRjB3YXVZMmN6SmVtQUpkN3FUY0o3b1ltbnFUOUVLTElHUk56M0Vyb1c5Vjh5V3ZjNDRzam13ZUxwdFptT0lXZy1XX2pXZkVLRHBadTJENDI3NUlGUnZpZjJsU2g5cml0UUczQU9jSUhzVkgybXQwdGMtT19LdEp2Q2pRUmJBQkJ5dXZqa2VVZmFLNGVtMEhyamlkTWRoaHduZ09iZEF2R3Vsc0VLbmctbVVkay1CZWpEOS1jb3dCT2xpMFJLQ2VoWFBneWhaZ1UwclZaYUJWYkw0a2NJUEJzZWE4T0xvRzBYdm5WMkU?oc=5\", \"content\": \"AMD and Oracle partner to deploy 50,000 MI450 Instinct GPUs in new AI superclusters — deployment of expansion set for 2026, powered by AMD's Helios rack - Tom's Hardware\"}]\n",
      "==================================\u001b[1m Ai Message \u001b[0m==================================\n",
      "\n",
      "Here are the latest news articles related to Artificial Intelligence:\n",
      "\n",
      "1. **[Analysis | China now leads the U.S. in this key part of the AI race](https://news.google.com/rss/articles/CBMigwFBVV95cUxPblZzY2JVbWVmOFZMU3NOZWNVVi1ONnRBODlFdmEtN2JqeHRvRTBvU3BJTFpTQ3M2azZ0djgxUWNsRWVHVXVFbGlyLWl0U2xzblh4QmljbzIzRXN4T25rekNVNVJ2SlZmX05WYnN1dzlVNzA2OUJYOWhaWU1GZFJSU3NoOA?oc=5) - The Washington Post**\n",
      "\n",
      "2. **[3 Millionaire-Maker Artificial Intelligence (AI) Stocks](https://news.google.com/rss/articles/CBMikwFBVV95cUxNbzJhYk1vVFpDQ1o1QTF2Y3cxS3ZKSGc1eVZBZzNFQkFWWEk1eXY1aXpZVkJNSlhCSkx0ZTRHQ1NxR2ZxckhyaFA5dkprQXNZcy16bWZaazBKT3ljRG82YWtHM0dkdnRmNWdrQklXVHdPVUNHbmtrcGU5VUdqX1BVUHNySmFnNHpyZEw2dEVKNVBrNHc?oc=5) - Yahoo Finance**\n",
      "\n",
      "3. **[Oracle and AMD expand a partnership with deals in the artificial intelligence sector booming](https://news.google.com/rss/articles/CBMi1wFBVV95cUxQRHR5ZVpUVGpxZGQwRU5lN09QdmFJSm1BbU9falJkSGNlNEdVdGw5OHNCOEJMbXBtdmZaUHRqbDJnYzg1b1RKYkJONlNzbUUzczFhMTRUTjl1SXlEaG1hSWU5WXVMZ0R0SVNPUmRfYnk3WjdmOFVVUzF5dFhtVGlqd0stdFpnVk9fcFBJcnRtbjVHVjlEVFhlbVVUeEthVFRpLW9MNXBkcXVmSnduWE5tN2xla2VoTUhrd1hIUnlrb2trUmlFQmI2NEw5amVqd3BPVmd0bDVuONIB3AFBVV95cUxPQ0pYcmlBQ1ZxTGZjY0x2WmFlOTk2dzZ6SDZnS1g3Yzh0UFVMYXhWZ0VRazdKSXUtcy1yUm1TUTN3YjczYVhuOFg0VlpNTWxQM0xYcmFkVVVPVWNZTkJGQjNhRzZpVVZQS1g4RzFSOFBEbkMtOVQ3YXFoZkVCczJ1RkFjLXBHQXVLYktsUGZmcW9DSk5JSmRiS3hJZXNSLTFyVzN2OWVTcEVVbjdzMExqbjYyV3FoTEZDaklIV1F6SzN1U1lZaHJfVjZWanZHSEtkeVFQOUtaWGdaazZC?oc=5) - The Hill**\n",
      "\n",
      "4. **[Oracle to Deploy 50,000 Chips From Advanced Micro Devices. AMD Stock Is Rising.](https://news.google.com/rss/articles/CBMimwNBVV95cUxPdjZ6UGl3dDYweGlBWno2cThhREd0MUdPdHFYeXlSZzRORUNPcUhCM2tFTWQyOWVhTk0xME9BaHllM1BYckVQdmMxNlVMZ0x1Y0FxN2J5SGVxWjZPSTRHcFJoNWx3ZjVjNG0tRnhwcThOQ0c1UWN4Nl9STi1YUWk5aTdTd3o2c0NsQkhjcjI0SWJfQ09Fa1dlTEFkUWpqNjg0SVduTjc4c2ZrU0pMTWRpZzdLQ2FDNWM2N0lZNWpERjFZMnk2b1dDdS0ySzl3ekFuYjRXR3NvQ0g1MDdvM05GdkdmMGJjRmN1ckhvVTZJQ0prcDgxSm9iTk4xaFBmRWdjTUU3V0dIbjMxWW40d01xUzhxR1hKb25YVFNpUVhLMDhmbTR5Q3RNQVdaR3Q2MWhmWl9QT1l2cS16ZDBzTS1ZekFXZV9fYjd4QWgwZ2V0RmlpQmFET2ZWdURaTjhDUHlBTzJ2N2pyR2QyZGVtMklvazdmbVk2UnpWWXJRb1A5Z1F6bVJrN0RvWWU0clNMWWlnbXV2alJ2bWoyVlU?oc=5) - Barron's**\n",
      "\n",
      "5. **[AMD and Oracle partner to deploy 50,000 MI450 Instinct GPUs in new AI superclusters — deployment of expansion set for 2026, powered by AMD's Helios rack](https://news.google.com/rss/articles/CBMiuwJBVV95cUxNWm9oMlBqa3NOQmo2RjR6THpnLVFQdG1TUnBuLURDZnBObzhaeHNhT1JvTUdaMUdyWXhKM2Q1VmozRmFXUUxUWjUwV3hwc2hUMzJybkJZRjB3YXVZMmN6SmVtQUpkN3FUY0o3b1ltbnFUOUVLTElHUk56M0Vyb1c5Vjh5V3ZjNDRzam13ZUxwdFptT0lXZy1XX2pXZkVLRHBadTJENDI3NUlGUnZpZjJsU2g5cml0UUczQU9jSUhzVkgybXQwdGMtT19LdEp2Q2pRUmJBQkJ5dXZqa2VVZmFLNGVtMEhyamlkTWRoaHduZ09iZEF2R3Vsc0VLbmctbVVkay1CZWpEOS1jb3dCT2xpMFJLQ2VoWFBneWhaZ1UwclZaYUJWYkw0a2NJUEJzZWE4T0xvRzBYdm5WMkU?oc=5) - Tom's Hardware**\n",
      "\n",
      "Feel free to explore the articles for more detailed information!\n"
     ]
    }
   ],
   "source": [
    "# Resume execution from interruption\n",
    "events = graph.stream(input=None, config=config, stream_mode=\"values\")\n",
    "for event in events:\n",
    "    if \"messages\" in event:\n",
    "        event[\"messages\"][-1].pretty_print()"
   ]
  }
 ],
 "metadata": {
  "kernelspec": {
   "display_name": ".venv",
   "language": "python",
   "name": "python3"
  },
  "language_info": {
   "codemirror_mode": {
    "name": "ipython",
    "version": 3
   },
   "file_extension": ".py",
   "mimetype": "text/x-python",
   "name": "python",
   "nbconvert_exporter": "python",
   "pygments_lexer": "ipython3",
   "version": "3.13.4"
  }
 },
 "nbformat": 4,
 "nbformat_minor": 5
}
